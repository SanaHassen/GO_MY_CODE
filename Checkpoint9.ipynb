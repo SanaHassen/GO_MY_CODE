{
 "cells": [
  {
   "cell_type": "markdown",
   "id": "civilian-merit",
   "metadata": {},
   "source": [
    "## K-means & Hierarchical clustering "
   ]
  },
  {
   "cell_type": "markdown",
   "id": "ideal-chapter",
   "metadata": {},
   "source": [
    "##### Data pre_processing"
   ]
  },
  {
   "cell_type": "code",
   "execution_count": 1,
   "id": "purple-engineer",
   "metadata": {},
   "outputs": [],
   "source": [
    "import pandas as pd\n",
    "from sklearn.cluster import AgglomerativeClustering\n",
    "import matplotlib.pyplot as plt"
   ]
  },
  {
   "cell_type": "code",
   "execution_count": 2,
   "id": "sunrise-gilbert",
   "metadata": {},
   "outputs": [],
   "source": [
    "data = pd.read_csv(\"CC GENERAL.csv\")"
   ]
  },
  {
   "cell_type": "code",
   "execution_count": 3,
   "id": "periodic-grace",
   "metadata": {},
   "outputs": [
    {
     "data": {
      "text/html": [
       "<div>\n",
       "<style scoped>\n",
       "    .dataframe tbody tr th:only-of-type {\n",
       "        vertical-align: middle;\n",
       "    }\n",
       "\n",
       "    .dataframe tbody tr th {\n",
       "        vertical-align: top;\n",
       "    }\n",
       "\n",
       "    .dataframe thead th {\n",
       "        text-align: right;\n",
       "    }\n",
       "</style>\n",
       "<table border=\"1\" class=\"dataframe\">\n",
       "  <thead>\n",
       "    <tr style=\"text-align: right;\">\n",
       "      <th></th>\n",
       "      <th>CUST_ID</th>\n",
       "      <th>BALANCE</th>\n",
       "      <th>BALANCE_FREQUENCY</th>\n",
       "      <th>PURCHASES</th>\n",
       "      <th>ONEOFF_PURCHASES</th>\n",
       "      <th>INSTALLMENTS_PURCHASES</th>\n",
       "      <th>CASH_ADVANCE</th>\n",
       "      <th>PURCHASES_FREQUENCY</th>\n",
       "      <th>ONEOFF_PURCHASES_FREQUENCY</th>\n",
       "      <th>PURCHASES_INSTALLMENTS_FREQUENCY</th>\n",
       "      <th>CASH_ADVANCE_FREQUENCY</th>\n",
       "      <th>CASH_ADVANCE_TRX</th>\n",
       "      <th>PURCHASES_TRX</th>\n",
       "      <th>CREDIT_LIMIT</th>\n",
       "      <th>PAYMENTS</th>\n",
       "      <th>MINIMUM_PAYMENTS</th>\n",
       "      <th>PRC_FULL_PAYMENT</th>\n",
       "      <th>TENURE</th>\n",
       "    </tr>\n",
       "  </thead>\n",
       "  <tbody>\n",
       "    <tr>\n",
       "      <th>0</th>\n",
       "      <td>C10001</td>\n",
       "      <td>40.900749</td>\n",
       "      <td>0.818182</td>\n",
       "      <td>95.40</td>\n",
       "      <td>0.00</td>\n",
       "      <td>95.4</td>\n",
       "      <td>0.000000</td>\n",
       "      <td>0.166667</td>\n",
       "      <td>0.000000</td>\n",
       "      <td>0.083333</td>\n",
       "      <td>0.000000</td>\n",
       "      <td>0</td>\n",
       "      <td>2</td>\n",
       "      <td>1000.0</td>\n",
       "      <td>201.802084</td>\n",
       "      <td>139.509787</td>\n",
       "      <td>0.000000</td>\n",
       "      <td>12</td>\n",
       "    </tr>\n",
       "    <tr>\n",
       "      <th>1</th>\n",
       "      <td>C10002</td>\n",
       "      <td>3202.467416</td>\n",
       "      <td>0.909091</td>\n",
       "      <td>0.00</td>\n",
       "      <td>0.00</td>\n",
       "      <td>0.0</td>\n",
       "      <td>6442.945483</td>\n",
       "      <td>0.000000</td>\n",
       "      <td>0.000000</td>\n",
       "      <td>0.000000</td>\n",
       "      <td>0.250000</td>\n",
       "      <td>4</td>\n",
       "      <td>0</td>\n",
       "      <td>7000.0</td>\n",
       "      <td>4103.032597</td>\n",
       "      <td>1072.340217</td>\n",
       "      <td>0.222222</td>\n",
       "      <td>12</td>\n",
       "    </tr>\n",
       "    <tr>\n",
       "      <th>2</th>\n",
       "      <td>C10003</td>\n",
       "      <td>2495.148862</td>\n",
       "      <td>1.000000</td>\n",
       "      <td>773.17</td>\n",
       "      <td>773.17</td>\n",
       "      <td>0.0</td>\n",
       "      <td>0.000000</td>\n",
       "      <td>1.000000</td>\n",
       "      <td>1.000000</td>\n",
       "      <td>0.000000</td>\n",
       "      <td>0.000000</td>\n",
       "      <td>0</td>\n",
       "      <td>12</td>\n",
       "      <td>7500.0</td>\n",
       "      <td>622.066742</td>\n",
       "      <td>627.284787</td>\n",
       "      <td>0.000000</td>\n",
       "      <td>12</td>\n",
       "    </tr>\n",
       "    <tr>\n",
       "      <th>3</th>\n",
       "      <td>C10004</td>\n",
       "      <td>1666.670542</td>\n",
       "      <td>0.636364</td>\n",
       "      <td>1499.00</td>\n",
       "      <td>1499.00</td>\n",
       "      <td>0.0</td>\n",
       "      <td>205.788017</td>\n",
       "      <td>0.083333</td>\n",
       "      <td>0.083333</td>\n",
       "      <td>0.000000</td>\n",
       "      <td>0.083333</td>\n",
       "      <td>1</td>\n",
       "      <td>1</td>\n",
       "      <td>7500.0</td>\n",
       "      <td>0.000000</td>\n",
       "      <td>NaN</td>\n",
       "      <td>0.000000</td>\n",
       "      <td>12</td>\n",
       "    </tr>\n",
       "    <tr>\n",
       "      <th>4</th>\n",
       "      <td>C10005</td>\n",
       "      <td>817.714335</td>\n",
       "      <td>1.000000</td>\n",
       "      <td>16.00</td>\n",
       "      <td>16.00</td>\n",
       "      <td>0.0</td>\n",
       "      <td>0.000000</td>\n",
       "      <td>0.083333</td>\n",
       "      <td>0.083333</td>\n",
       "      <td>0.000000</td>\n",
       "      <td>0.000000</td>\n",
       "      <td>0</td>\n",
       "      <td>1</td>\n",
       "      <td>1200.0</td>\n",
       "      <td>678.334763</td>\n",
       "      <td>244.791237</td>\n",
       "      <td>0.000000</td>\n",
       "      <td>12</td>\n",
       "    </tr>\n",
       "  </tbody>\n",
       "</table>\n",
       "</div>"
      ],
      "text/plain": [
       "  CUST_ID      BALANCE  BALANCE_FREQUENCY  PURCHASES  ONEOFF_PURCHASES  \\\n",
       "0  C10001    40.900749           0.818182      95.40              0.00   \n",
       "1  C10002  3202.467416           0.909091       0.00              0.00   \n",
       "2  C10003  2495.148862           1.000000     773.17            773.17   \n",
       "3  C10004  1666.670542           0.636364    1499.00           1499.00   \n",
       "4  C10005   817.714335           1.000000      16.00             16.00   \n",
       "\n",
       "   INSTALLMENTS_PURCHASES  CASH_ADVANCE  PURCHASES_FREQUENCY  \\\n",
       "0                    95.4      0.000000             0.166667   \n",
       "1                     0.0   6442.945483             0.000000   \n",
       "2                     0.0      0.000000             1.000000   \n",
       "3                     0.0    205.788017             0.083333   \n",
       "4                     0.0      0.000000             0.083333   \n",
       "\n",
       "   ONEOFF_PURCHASES_FREQUENCY  PURCHASES_INSTALLMENTS_FREQUENCY  \\\n",
       "0                    0.000000                          0.083333   \n",
       "1                    0.000000                          0.000000   \n",
       "2                    1.000000                          0.000000   \n",
       "3                    0.083333                          0.000000   \n",
       "4                    0.083333                          0.000000   \n",
       "\n",
       "   CASH_ADVANCE_FREQUENCY  CASH_ADVANCE_TRX  PURCHASES_TRX  CREDIT_LIMIT  \\\n",
       "0                0.000000                 0              2        1000.0   \n",
       "1                0.250000                 4              0        7000.0   \n",
       "2                0.000000                 0             12        7500.0   \n",
       "3                0.083333                 1              1        7500.0   \n",
       "4                0.000000                 0              1        1200.0   \n",
       "\n",
       "      PAYMENTS  MINIMUM_PAYMENTS  PRC_FULL_PAYMENT  TENURE  \n",
       "0   201.802084        139.509787          0.000000      12  \n",
       "1  4103.032597       1072.340217          0.222222      12  \n",
       "2   622.066742        627.284787          0.000000      12  \n",
       "3     0.000000               NaN          0.000000      12  \n",
       "4   678.334763        244.791237          0.000000      12  "
      ]
     },
     "execution_count": 3,
     "metadata": {},
     "output_type": "execute_result"
    }
   ],
   "source": [
    "data.head()"
   ]
  },
  {
   "cell_type": "code",
   "execution_count": 4,
   "id": "least-sender",
   "metadata": {},
   "outputs": [
    {
     "data": {
      "text/plain": [
       "CUST_ID                               0\n",
       "BALANCE                               0\n",
       "BALANCE_FREQUENCY                     0\n",
       "PURCHASES                             0\n",
       "ONEOFF_PURCHASES                      0\n",
       "INSTALLMENTS_PURCHASES                0\n",
       "CASH_ADVANCE                          0\n",
       "PURCHASES_FREQUENCY                   0\n",
       "ONEOFF_PURCHASES_FREQUENCY            0\n",
       "PURCHASES_INSTALLMENTS_FREQUENCY      0\n",
       "CASH_ADVANCE_FREQUENCY                0\n",
       "CASH_ADVANCE_TRX                      0\n",
       "PURCHASES_TRX                         0\n",
       "CREDIT_LIMIT                          1\n",
       "PAYMENTS                              0\n",
       "MINIMUM_PAYMENTS                    313\n",
       "PRC_FULL_PAYMENT                      0\n",
       "TENURE                                0\n",
       "dtype: int64"
      ]
     },
     "execution_count": 4,
     "metadata": {},
     "output_type": "execute_result"
    }
   ],
   "source": [
    "data.isnull().sum()"
   ]
  },
  {
   "cell_type": "code",
   "execution_count": 5,
   "id": "auburn-pantyhose",
   "metadata": {},
   "outputs": [],
   "source": [
    "data[\"CREDIT_LIMIT\"].fillna(data[\"CREDIT_LIMIT\"].mean(),inplace = True)"
   ]
  },
  {
   "cell_type": "code",
   "execution_count": 6,
   "id": "frozen-leader",
   "metadata": {},
   "outputs": [],
   "source": [
    "data[\"MINIMUM_PAYMENTS\"].fillna(data[\"MINIMUM_PAYMENTS\"].mean() ,inplace = True)"
   ]
  },
  {
   "cell_type": "code",
   "execution_count": 7,
   "id": "quality-hybrid",
   "metadata": {},
   "outputs": [
    {
     "data": {
      "text/plain": [
       "CUST_ID                             0\n",
       "BALANCE                             0\n",
       "BALANCE_FREQUENCY                   0\n",
       "PURCHASES                           0\n",
       "ONEOFF_PURCHASES                    0\n",
       "INSTALLMENTS_PURCHASES              0\n",
       "CASH_ADVANCE                        0\n",
       "PURCHASES_FREQUENCY                 0\n",
       "ONEOFF_PURCHASES_FREQUENCY          0\n",
       "PURCHASES_INSTALLMENTS_FREQUENCY    0\n",
       "CASH_ADVANCE_FREQUENCY              0\n",
       "CASH_ADVANCE_TRX                    0\n",
       "PURCHASES_TRX                       0\n",
       "CREDIT_LIMIT                        0\n",
       "PAYMENTS                            0\n",
       "MINIMUM_PAYMENTS                    0\n",
       "PRC_FULL_PAYMENT                    0\n",
       "TENURE                              0\n",
       "dtype: int64"
      ]
     },
     "execution_count": 7,
     "metadata": {},
     "output_type": "execute_result"
    }
   ],
   "source": [
    "data.isnull().sum()"
   ]
  },
  {
   "cell_type": "code",
   "execution_count": 8,
   "id": "positive-reminder",
   "metadata": {},
   "outputs": [
    {
     "name": "stdout",
     "output_type": "stream",
     "text": [
      "<class 'pandas.core.frame.DataFrame'>\n",
      "RangeIndex: 8950 entries, 0 to 8949\n",
      "Data columns (total 18 columns):\n",
      " #   Column                            Non-Null Count  Dtype  \n",
      "---  ------                            --------------  -----  \n",
      " 0   CUST_ID                           8950 non-null   object \n",
      " 1   BALANCE                           8950 non-null   float64\n",
      " 2   BALANCE_FREQUENCY                 8950 non-null   float64\n",
      " 3   PURCHASES                         8950 non-null   float64\n",
      " 4   ONEOFF_PURCHASES                  8950 non-null   float64\n",
      " 5   INSTALLMENTS_PURCHASES            8950 non-null   float64\n",
      " 6   CASH_ADVANCE                      8950 non-null   float64\n",
      " 7   PURCHASES_FREQUENCY               8950 non-null   float64\n",
      " 8   ONEOFF_PURCHASES_FREQUENCY        8950 non-null   float64\n",
      " 9   PURCHASES_INSTALLMENTS_FREQUENCY  8950 non-null   float64\n",
      " 10  CASH_ADVANCE_FREQUENCY            8950 non-null   float64\n",
      " 11  CASH_ADVANCE_TRX                  8950 non-null   int64  \n",
      " 12  PURCHASES_TRX                     8950 non-null   int64  \n",
      " 13  CREDIT_LIMIT                      8950 non-null   float64\n",
      " 14  PAYMENTS                          8950 non-null   float64\n",
      " 15  MINIMUM_PAYMENTS                  8950 non-null   float64\n",
      " 16  PRC_FULL_PAYMENT                  8950 non-null   float64\n",
      " 17  TENURE                            8950 non-null   int64  \n",
      "dtypes: float64(14), int64(3), object(1)\n",
      "memory usage: 1.2+ MB\n"
     ]
    }
   ],
   "source": [
    "data.info()"
   ]
  },
  {
   "cell_type": "code",
   "execution_count": 9,
   "id": "serious-summer",
   "metadata": {},
   "outputs": [],
   "source": [
    "data.drop('CUST_ID', inplace=True, axis=1)"
   ]
  },
  {
   "cell_type": "code",
   "execution_count": 10,
   "id": "complicated-pricing",
   "metadata": {
    "scrolled": true
   },
   "outputs": [
    {
     "data": {
      "text/html": [
       "<div>\n",
       "<style scoped>\n",
       "    .dataframe tbody tr th:only-of-type {\n",
       "        vertical-align: middle;\n",
       "    }\n",
       "\n",
       "    .dataframe tbody tr th {\n",
       "        vertical-align: top;\n",
       "    }\n",
       "\n",
       "    .dataframe thead th {\n",
       "        text-align: right;\n",
       "    }\n",
       "</style>\n",
       "<table border=\"1\" class=\"dataframe\">\n",
       "  <thead>\n",
       "    <tr style=\"text-align: right;\">\n",
       "      <th></th>\n",
       "      <th>BALANCE</th>\n",
       "      <th>BALANCE_FREQUENCY</th>\n",
       "      <th>PURCHASES</th>\n",
       "      <th>ONEOFF_PURCHASES</th>\n",
       "      <th>INSTALLMENTS_PURCHASES</th>\n",
       "      <th>CASH_ADVANCE</th>\n",
       "      <th>PURCHASES_FREQUENCY</th>\n",
       "      <th>ONEOFF_PURCHASES_FREQUENCY</th>\n",
       "      <th>PURCHASES_INSTALLMENTS_FREQUENCY</th>\n",
       "      <th>CASH_ADVANCE_FREQUENCY</th>\n",
       "      <th>CASH_ADVANCE_TRX</th>\n",
       "      <th>PURCHASES_TRX</th>\n",
       "      <th>CREDIT_LIMIT</th>\n",
       "      <th>PAYMENTS</th>\n",
       "      <th>MINIMUM_PAYMENTS</th>\n",
       "      <th>PRC_FULL_PAYMENT</th>\n",
       "      <th>TENURE</th>\n",
       "    </tr>\n",
       "  </thead>\n",
       "  <tbody>\n",
       "    <tr>\n",
       "      <th>0</th>\n",
       "      <td>40.900749</td>\n",
       "      <td>0.818182</td>\n",
       "      <td>95.40</td>\n",
       "      <td>0.00</td>\n",
       "      <td>95.4</td>\n",
       "      <td>0.000000</td>\n",
       "      <td>0.166667</td>\n",
       "      <td>0.000000</td>\n",
       "      <td>0.083333</td>\n",
       "      <td>0.000000</td>\n",
       "      <td>0</td>\n",
       "      <td>2</td>\n",
       "      <td>1000.0</td>\n",
       "      <td>201.802084</td>\n",
       "      <td>139.509787</td>\n",
       "      <td>0.000000</td>\n",
       "      <td>12</td>\n",
       "    </tr>\n",
       "    <tr>\n",
       "      <th>1</th>\n",
       "      <td>3202.467416</td>\n",
       "      <td>0.909091</td>\n",
       "      <td>0.00</td>\n",
       "      <td>0.00</td>\n",
       "      <td>0.0</td>\n",
       "      <td>6442.945483</td>\n",
       "      <td>0.000000</td>\n",
       "      <td>0.000000</td>\n",
       "      <td>0.000000</td>\n",
       "      <td>0.250000</td>\n",
       "      <td>4</td>\n",
       "      <td>0</td>\n",
       "      <td>7000.0</td>\n",
       "      <td>4103.032597</td>\n",
       "      <td>1072.340217</td>\n",
       "      <td>0.222222</td>\n",
       "      <td>12</td>\n",
       "    </tr>\n",
       "    <tr>\n",
       "      <th>2</th>\n",
       "      <td>2495.148862</td>\n",
       "      <td>1.000000</td>\n",
       "      <td>773.17</td>\n",
       "      <td>773.17</td>\n",
       "      <td>0.0</td>\n",
       "      <td>0.000000</td>\n",
       "      <td>1.000000</td>\n",
       "      <td>1.000000</td>\n",
       "      <td>0.000000</td>\n",
       "      <td>0.000000</td>\n",
       "      <td>0</td>\n",
       "      <td>12</td>\n",
       "      <td>7500.0</td>\n",
       "      <td>622.066742</td>\n",
       "      <td>627.284787</td>\n",
       "      <td>0.000000</td>\n",
       "      <td>12</td>\n",
       "    </tr>\n",
       "    <tr>\n",
       "      <th>3</th>\n",
       "      <td>1666.670542</td>\n",
       "      <td>0.636364</td>\n",
       "      <td>1499.00</td>\n",
       "      <td>1499.00</td>\n",
       "      <td>0.0</td>\n",
       "      <td>205.788017</td>\n",
       "      <td>0.083333</td>\n",
       "      <td>0.083333</td>\n",
       "      <td>0.000000</td>\n",
       "      <td>0.083333</td>\n",
       "      <td>1</td>\n",
       "      <td>1</td>\n",
       "      <td>7500.0</td>\n",
       "      <td>0.000000</td>\n",
       "      <td>864.206542</td>\n",
       "      <td>0.000000</td>\n",
       "      <td>12</td>\n",
       "    </tr>\n",
       "    <tr>\n",
       "      <th>4</th>\n",
       "      <td>817.714335</td>\n",
       "      <td>1.000000</td>\n",
       "      <td>16.00</td>\n",
       "      <td>16.00</td>\n",
       "      <td>0.0</td>\n",
       "      <td>0.000000</td>\n",
       "      <td>0.083333</td>\n",
       "      <td>0.083333</td>\n",
       "      <td>0.000000</td>\n",
       "      <td>0.000000</td>\n",
       "      <td>0</td>\n",
       "      <td>1</td>\n",
       "      <td>1200.0</td>\n",
       "      <td>678.334763</td>\n",
       "      <td>244.791237</td>\n",
       "      <td>0.000000</td>\n",
       "      <td>12</td>\n",
       "    </tr>\n",
       "  </tbody>\n",
       "</table>\n",
       "</div>"
      ],
      "text/plain": [
       "       BALANCE  BALANCE_FREQUENCY  PURCHASES  ONEOFF_PURCHASES  \\\n",
       "0    40.900749           0.818182      95.40              0.00   \n",
       "1  3202.467416           0.909091       0.00              0.00   \n",
       "2  2495.148862           1.000000     773.17            773.17   \n",
       "3  1666.670542           0.636364    1499.00           1499.00   \n",
       "4   817.714335           1.000000      16.00             16.00   \n",
       "\n",
       "   INSTALLMENTS_PURCHASES  CASH_ADVANCE  PURCHASES_FREQUENCY  \\\n",
       "0                    95.4      0.000000             0.166667   \n",
       "1                     0.0   6442.945483             0.000000   \n",
       "2                     0.0      0.000000             1.000000   \n",
       "3                     0.0    205.788017             0.083333   \n",
       "4                     0.0      0.000000             0.083333   \n",
       "\n",
       "   ONEOFF_PURCHASES_FREQUENCY  PURCHASES_INSTALLMENTS_FREQUENCY  \\\n",
       "0                    0.000000                          0.083333   \n",
       "1                    0.000000                          0.000000   \n",
       "2                    1.000000                          0.000000   \n",
       "3                    0.083333                          0.000000   \n",
       "4                    0.083333                          0.000000   \n",
       "\n",
       "   CASH_ADVANCE_FREQUENCY  CASH_ADVANCE_TRX  PURCHASES_TRX  CREDIT_LIMIT  \\\n",
       "0                0.000000                 0              2        1000.0   \n",
       "1                0.250000                 4              0        7000.0   \n",
       "2                0.000000                 0             12        7500.0   \n",
       "3                0.083333                 1              1        7500.0   \n",
       "4                0.000000                 0              1        1200.0   \n",
       "\n",
       "      PAYMENTS  MINIMUM_PAYMENTS  PRC_FULL_PAYMENT  TENURE  \n",
       "0   201.802084        139.509787          0.000000      12  \n",
       "1  4103.032597       1072.340217          0.222222      12  \n",
       "2   622.066742        627.284787          0.000000      12  \n",
       "3     0.000000        864.206542          0.000000      12  \n",
       "4   678.334763        244.791237          0.000000      12  "
      ]
     },
     "execution_count": 10,
     "metadata": {},
     "output_type": "execute_result"
    }
   ],
   "source": [
    "data.head()"
   ]
  },
  {
   "cell_type": "code",
   "execution_count": 11,
   "id": "intense-pattern",
   "metadata": {},
   "outputs": [],
   "source": [
    "from sklearn import preprocessing\n",
    "\n",
    "# data standardization   \n",
    "standardized_data= preprocessing.scale(data)\n",
    "\n",
    "# data normalization\n",
    "normalized_data = preprocessing.normalize(standardized_data)"
   ]
  },
  {
   "cell_type": "code",
   "execution_count": 12,
   "id": "blocked-basis",
   "metadata": {},
   "outputs": [
    {
     "data": {
      "text/html": [
       "<div>\n",
       "<style scoped>\n",
       "    .dataframe tbody tr th:only-of-type {\n",
       "        vertical-align: middle;\n",
       "    }\n",
       "\n",
       "    .dataframe tbody tr th {\n",
       "        vertical-align: top;\n",
       "    }\n",
       "\n",
       "    .dataframe thead th {\n",
       "        text-align: right;\n",
       "    }\n",
       "</style>\n",
       "<table border=\"1\" class=\"dataframe\">\n",
       "  <thead>\n",
       "    <tr style=\"text-align: right;\">\n",
       "      <th></th>\n",
       "      <th>BALANCE</th>\n",
       "      <th>BALANCE_FREQUENCY</th>\n",
       "      <th>PURCHASES</th>\n",
       "      <th>ONEOFF_PURCHASES</th>\n",
       "      <th>INSTALLMENTS_PURCHASES</th>\n",
       "      <th>CASH_ADVANCE</th>\n",
       "      <th>PURCHASES_FREQUENCY</th>\n",
       "      <th>ONEOFF_PURCHASES_FREQUENCY</th>\n",
       "      <th>PURCHASES_INSTALLMENTS_FREQUENCY</th>\n",
       "      <th>CASH_ADVANCE_FREQUENCY</th>\n",
       "      <th>CASH_ADVANCE_TRX</th>\n",
       "      <th>PURCHASES_TRX</th>\n",
       "      <th>CREDIT_LIMIT</th>\n",
       "      <th>PAYMENTS</th>\n",
       "      <th>MINIMUM_PAYMENTS</th>\n",
       "      <th>PRC_FULL_PAYMENT</th>\n",
       "      <th>TENURE</th>\n",
       "    </tr>\n",
       "  </thead>\n",
       "  <tbody>\n",
       "    <tr>\n",
       "      <th>0</th>\n",
       "      <td>-0.311938</td>\n",
       "      <td>-0.106297</td>\n",
       "      <td>-0.181072</td>\n",
       "      <td>-0.152108</td>\n",
       "      <td>-0.148760</td>\n",
       "      <td>-0.198921</td>\n",
       "      <td>-0.343687</td>\n",
       "      <td>-0.289212</td>\n",
       "      <td>-0.301422</td>\n",
       "      <td>-0.287801</td>\n",
       "      <td>-0.202878</td>\n",
       "      <td>-0.217905</td>\n",
       "      <td>-0.409290</td>\n",
       "      <td>-0.225425</td>\n",
       "      <td>-0.132519</td>\n",
       "      <td>-0.223964</td>\n",
       "      <td>0.153704</td>\n",
       "    </tr>\n",
       "    <tr>\n",
       "      <th>1</th>\n",
       "      <td>0.219925</td>\n",
       "      <td>0.037539</td>\n",
       "      <td>-0.131222</td>\n",
       "      <td>-0.099749</td>\n",
       "      <td>-0.127037</td>\n",
       "      <td>0.728166</td>\n",
       "      <td>-0.341434</td>\n",
       "      <td>-0.189660</td>\n",
       "      <td>-0.256265</td>\n",
       "      <td>0.160401</td>\n",
       "      <td>0.030761</td>\n",
       "      <td>-0.165384</td>\n",
       "      <td>0.192448</td>\n",
       "      <td>0.228779</td>\n",
       "      <td>0.024959</td>\n",
       "      <td>0.065457</td>\n",
       "      <td>0.100796</td>\n",
       "    </tr>\n",
       "    <tr>\n",
       "      <th>2</th>\n",
       "      <td>0.126682</td>\n",
       "      <td>0.146783</td>\n",
       "      <td>-0.030504</td>\n",
       "      <td>0.030850</td>\n",
       "      <td>-0.128790</td>\n",
       "      <td>-0.132249</td>\n",
       "      <td>0.359771</td>\n",
       "      <td>0.757440</td>\n",
       "      <td>-0.259802</td>\n",
       "      <td>-0.191339</td>\n",
       "      <td>-0.134880</td>\n",
       "      <td>-0.030888</td>\n",
       "      <td>0.234039</td>\n",
       "      <td>-0.108739</td>\n",
       "      <td>-0.028803</td>\n",
       "      <td>-0.148899</td>\n",
       "      <td>0.102187</td>\n",
       "    </tr>\n",
       "    <tr>\n",
       "      <th>3</th>\n",
       "      <td>0.020589</td>\n",
       "      <td>-0.426439</td>\n",
       "      <td>0.097309</td>\n",
       "      <td>0.229034</td>\n",
       "      <td>-0.190618</td>\n",
       "      <td>-0.154587</td>\n",
       "      <td>-0.425253</td>\n",
       "      <td>-0.167447</td>\n",
       "      <td>-0.384524</td>\n",
       "      <td>-0.108570</td>\n",
       "      <td>-0.138184</td>\n",
       "      <td>-0.231288</td>\n",
       "      <td>0.346393</td>\n",
       "      <td>-0.251048</td>\n",
       "      <td>0.000000</td>\n",
       "      <td>-0.220379</td>\n",
       "      <td>0.151244</td>\n",
       "    </tr>\n",
       "    <tr>\n",
       "      <th>4</th>\n",
       "      <td>-0.151595</td>\n",
       "      <td>0.218909</td>\n",
       "      <td>-0.195238</td>\n",
       "      <td>-0.146744</td>\n",
       "      <td>-0.192075</td>\n",
       "      <td>-0.197234</td>\n",
       "      <td>-0.428504</td>\n",
       "      <td>-0.168727</td>\n",
       "      <td>-0.387463</td>\n",
       "      <td>-0.285359</td>\n",
       "      <td>-0.201157</td>\n",
       "      <td>-0.233056</td>\n",
       "      <td>-0.382591</td>\n",
       "      <td>-0.153959</td>\n",
       "      <td>-0.112306</td>\n",
       "      <td>-0.222064</td>\n",
       "      <td>0.152400</td>\n",
       "    </tr>\n",
       "    <tr>\n",
       "      <th>...</th>\n",
       "      <td>...</td>\n",
       "      <td>...</td>\n",
       "      <td>...</td>\n",
       "      <td>...</td>\n",
       "      <td>...</td>\n",
       "      <td>...</td>\n",
       "      <td>...</td>\n",
       "      <td>...</td>\n",
       "      <td>...</td>\n",
       "      <td>...</td>\n",
       "      <td>...</td>\n",
       "      <td>...</td>\n",
       "      <td>...</td>\n",
       "      <td>...</td>\n",
       "      <td>...</td>\n",
       "      <td>...</td>\n",
       "      <td>...</td>\n",
       "    </tr>\n",
       "    <tr>\n",
       "      <th>8945</th>\n",
       "      <td>-0.146893</td>\n",
       "      <td>0.103128</td>\n",
       "      <td>-0.066344</td>\n",
       "      <td>-0.071050</td>\n",
       "      <td>-0.026403</td>\n",
       "      <td>-0.092916</td>\n",
       "      <td>0.252770</td>\n",
       "      <td>-0.135091</td>\n",
       "      <td>0.234852</td>\n",
       "      <td>-0.134432</td>\n",
       "      <td>-0.094764</td>\n",
       "      <td>-0.069751</td>\n",
       "      <td>-0.191180</td>\n",
       "      <td>-0.096784</td>\n",
       "      <td>-0.069640</td>\n",
       "      <td>0.235672</td>\n",
       "      <td>-0.820660</td>\n",
       "    </tr>\n",
       "    <tr>\n",
       "      <th>8946</th>\n",
       "      <td>-0.151521</td>\n",
       "      <td>0.105735</td>\n",
       "      <td>-0.067173</td>\n",
       "      <td>-0.072846</td>\n",
       "      <td>-0.025067</td>\n",
       "      <td>-0.095266</td>\n",
       "      <td>0.259162</td>\n",
       "      <td>-0.138507</td>\n",
       "      <td>0.240791</td>\n",
       "      <td>-0.137832</td>\n",
       "      <td>-0.097161</td>\n",
       "      <td>-0.071515</td>\n",
       "      <td>-0.196014</td>\n",
       "      <td>-0.102738</td>\n",
       "      <td>0.000000</td>\n",
       "      <td>-0.107259</td>\n",
       "      <td>-0.841413</td>\n",
       "    </tr>\n",
       "    <tr>\n",
       "      <th>8947</th>\n",
       "      <td>-0.156974</td>\n",
       "      <td>-0.039324</td>\n",
       "      <td>-0.085222</td>\n",
       "      <td>-0.075675</td>\n",
       "      <td>-0.062521</td>\n",
       "      <td>-0.098965</td>\n",
       "      <td>0.181181</td>\n",
       "      <td>-0.143885</td>\n",
       "      <td>0.161230</td>\n",
       "      <td>-0.143183</td>\n",
       "      <td>-0.100933</td>\n",
       "      <td>-0.082821</td>\n",
       "      <td>-0.203625</td>\n",
       "      <td>-0.120978</td>\n",
       "      <td>-0.071123</td>\n",
       "      <td>0.069795</td>\n",
       "      <td>-0.874082</td>\n",
       "    </tr>\n",
       "    <tr>\n",
       "      <th>8948</th>\n",
       "      <td>-0.154320</td>\n",
       "      <td>-0.038411</td>\n",
       "      <td>-0.097240</td>\n",
       "      <td>-0.073918</td>\n",
       "      <td>-0.094139</td>\n",
       "      <td>-0.093057</td>\n",
       "      <td>-0.253016</td>\n",
       "      <td>-0.140545</td>\n",
       "      <td>-0.189902</td>\n",
       "      <td>0.032623</td>\n",
       "      <td>-0.037897</td>\n",
       "      <td>-0.122556</td>\n",
       "      <td>-0.227357</td>\n",
       "      <td>-0.120224</td>\n",
       "      <td>-0.071842</td>\n",
       "      <td>0.068175</td>\n",
       "      <td>-0.853792</td>\n",
       "    </tr>\n",
       "    <tr>\n",
       "      <th>8949</th>\n",
       "      <td>-0.115207</td>\n",
       "      <td>-0.178881</td>\n",
       "      <td>0.008480</td>\n",
       "      <td>0.060711</td>\n",
       "      <td>-0.091465</td>\n",
       "      <td>-0.081732</td>\n",
       "      <td>0.088393</td>\n",
       "      <td>0.313098</td>\n",
       "      <td>-0.184508</td>\n",
       "      <td>0.199277</td>\n",
       "      <td>-0.036821</td>\n",
       "      <td>0.067108</td>\n",
       "      <td>-0.182188</td>\n",
       "      <td>-0.116071</td>\n",
       "      <td>-0.066992</td>\n",
       "      <td>-0.105746</td>\n",
       "      <td>-0.829538</td>\n",
       "    </tr>\n",
       "  </tbody>\n",
       "</table>\n",
       "<p>8950 rows × 17 columns</p>\n",
       "</div>"
      ],
      "text/plain": [
       "       BALANCE  BALANCE_FREQUENCY  PURCHASES  ONEOFF_PURCHASES  \\\n",
       "0    -0.311938          -0.106297  -0.181072         -0.152108   \n",
       "1     0.219925           0.037539  -0.131222         -0.099749   \n",
       "2     0.126682           0.146783  -0.030504          0.030850   \n",
       "3     0.020589          -0.426439   0.097309          0.229034   \n",
       "4    -0.151595           0.218909  -0.195238         -0.146744   \n",
       "...        ...                ...        ...               ...   \n",
       "8945 -0.146893           0.103128  -0.066344         -0.071050   \n",
       "8946 -0.151521           0.105735  -0.067173         -0.072846   \n",
       "8947 -0.156974          -0.039324  -0.085222         -0.075675   \n",
       "8948 -0.154320          -0.038411  -0.097240         -0.073918   \n",
       "8949 -0.115207          -0.178881   0.008480          0.060711   \n",
       "\n",
       "      INSTALLMENTS_PURCHASES  CASH_ADVANCE  PURCHASES_FREQUENCY  \\\n",
       "0                  -0.148760     -0.198921            -0.343687   \n",
       "1                  -0.127037      0.728166            -0.341434   \n",
       "2                  -0.128790     -0.132249             0.359771   \n",
       "3                  -0.190618     -0.154587            -0.425253   \n",
       "4                  -0.192075     -0.197234            -0.428504   \n",
       "...                      ...           ...                  ...   \n",
       "8945               -0.026403     -0.092916             0.252770   \n",
       "8946               -0.025067     -0.095266             0.259162   \n",
       "8947               -0.062521     -0.098965             0.181181   \n",
       "8948               -0.094139     -0.093057            -0.253016   \n",
       "8949               -0.091465     -0.081732             0.088393   \n",
       "\n",
       "      ONEOFF_PURCHASES_FREQUENCY  PURCHASES_INSTALLMENTS_FREQUENCY  \\\n",
       "0                      -0.289212                         -0.301422   \n",
       "1                      -0.189660                         -0.256265   \n",
       "2                       0.757440                         -0.259802   \n",
       "3                      -0.167447                         -0.384524   \n",
       "4                      -0.168727                         -0.387463   \n",
       "...                          ...                               ...   \n",
       "8945                   -0.135091                          0.234852   \n",
       "8946                   -0.138507                          0.240791   \n",
       "8947                   -0.143885                          0.161230   \n",
       "8948                   -0.140545                         -0.189902   \n",
       "8949                    0.313098                         -0.184508   \n",
       "\n",
       "      CASH_ADVANCE_FREQUENCY  CASH_ADVANCE_TRX  PURCHASES_TRX  CREDIT_LIMIT  \\\n",
       "0                  -0.287801         -0.202878      -0.217905     -0.409290   \n",
       "1                   0.160401          0.030761      -0.165384      0.192448   \n",
       "2                  -0.191339         -0.134880      -0.030888      0.234039   \n",
       "3                  -0.108570         -0.138184      -0.231288      0.346393   \n",
       "4                  -0.285359         -0.201157      -0.233056     -0.382591   \n",
       "...                      ...               ...            ...           ...   \n",
       "8945               -0.134432         -0.094764      -0.069751     -0.191180   \n",
       "8946               -0.137832         -0.097161      -0.071515     -0.196014   \n",
       "8947               -0.143183         -0.100933      -0.082821     -0.203625   \n",
       "8948                0.032623         -0.037897      -0.122556     -0.227357   \n",
       "8949                0.199277         -0.036821       0.067108     -0.182188   \n",
       "\n",
       "      PAYMENTS  MINIMUM_PAYMENTS  PRC_FULL_PAYMENT    TENURE  \n",
       "0    -0.225425         -0.132519         -0.223964  0.153704  \n",
       "1     0.228779          0.024959          0.065457  0.100796  \n",
       "2    -0.108739         -0.028803         -0.148899  0.102187  \n",
       "3    -0.251048          0.000000         -0.220379  0.151244  \n",
       "4    -0.153959         -0.112306         -0.222064  0.152400  \n",
       "...        ...               ...               ...       ...  \n",
       "8945 -0.096784         -0.069640          0.235672 -0.820660  \n",
       "8946 -0.102738          0.000000         -0.107259 -0.841413  \n",
       "8947 -0.120978         -0.071123          0.069795 -0.874082  \n",
       "8948 -0.120224         -0.071842          0.068175 -0.853792  \n",
       "8949 -0.116071         -0.066992         -0.105746 -0.829538  \n",
       "\n",
       "[8950 rows x 17 columns]"
      ]
     },
     "execution_count": 12,
     "metadata": {},
     "output_type": "execute_result"
    }
   ],
   "source": [
    "new_data = pd.DataFrame(data=normalized_data,columns=data.columns)\n",
    "new_data"
   ]
  },
  {
   "cell_type": "code",
   "execution_count": 13,
   "id": "quality-merit",
   "metadata": {},
   "outputs": [],
   "source": [
    "model = AgglomerativeClustering(n_clusters=4,affinity = \"euclidean\", linkage = \"complete\")"
   ]
  },
  {
   "cell_type": "code",
   "execution_count": 14,
   "id": "seven-background",
   "metadata": {},
   "outputs": [],
   "source": [
    "labels = model.fit_predict(new_data)"
   ]
  },
  {
   "cell_type": "code",
   "execution_count": 15,
   "id": "administrative-triangle",
   "metadata": {},
   "outputs": [],
   "source": [
    "agglomerative = pd.DataFrame(labels)"
   ]
  },
  {
   "cell_type": "code",
   "execution_count": 16,
   "id": "authentic-appendix",
   "metadata": {
    "scrolled": true
   },
   "outputs": [
    {
     "data": {
      "image/png": "[encoded data removed]",
      "text/plain": [
       "<Figure size 432x288 with 2 Axes>"
      ]
     },
     "metadata": {
      "needs_background": "light"
     },
     "output_type": "display_data"
    }
   ],
   "source": [
    "fig =plt.figure()\n",
    "ax = fig.add_subplot(111)\n",
    "scatter = ax.scatter (new_data['BALANCE'] , new_data['PURCHASES'] , c= agglomerative[0], s=50)\n",
    "ax.set_title(\"Agglomerative Clutering\")\n",
    "ax.set_xlabel(\"BALANCE\")\n",
    "ax.set_ylabel(\"PURCHASES\")\n",
    "plt.colorbar(scatter)\n",
    "plt.show()"
   ]
  },
  {
   "cell_type": "code",
   "execution_count": 17,
   "id": "reflected-leeds",
   "metadata": {},
   "outputs": [
    {
     "data": {
      "image/png": "[encoded data removed]",
      "text/plain": [
       "<Figure size 720x504 with 1 Axes>"
      ]
     },
     "metadata": {
      "needs_background": "light"
     },
     "output_type": "display_data"
    }
   ],
   "source": [
    "import scipy.cluster.hierarchy as shc\n",
    "plt.figure(figsize=(10,7))\n",
    "plt.title(\"Dendrograms\")\n",
    "dend=shc.dendrogram(shc.linkage(new_data, method=\"complete\"))"
   ]
  },
  {
   "cell_type": "code",
   "execution_count": 18,
   "id": "genetic-campus",
   "metadata": {},
   "outputs": [
    {
     "data": {
      "text/plain": [
       "array([3, 1, 0, ..., 2, 3, 0], dtype=int32)"
      ]
     },
     "execution_count": 18,
     "metadata": {},
     "output_type": "execute_result"
    }
   ],
   "source": [
    "from sklearn.cluster import KMeans\n",
    "kmeans = KMeans(n_clusters = 4, random_state = 0)\n",
    "kmeans.fit_predict(new_data)"
   ]
  },
  {
   "cell_type": "code",
   "execution_count": 19,
   "id": "together-second",
   "metadata": {},
   "outputs": [
    {
     "data": {
      "text/plain": [
       "0       3\n",
       "1       1\n",
       "2       0\n",
       "3       3\n",
       "4       3\n",
       "       ..\n",
       "8945    2\n",
       "8946    2\n",
       "8947    2\n",
       "8948    3\n",
       "8949    0\n",
       "Name: 0, Length: 8950, dtype: int32"
      ]
     },
     "execution_count": 19,
     "metadata": {},
     "output_type": "execute_result"
    }
   ],
   "source": [
    "labels = pd.DataFrame(kmeans.labels_)\n",
    "labels[0]"
   ]
  },
  {
   "cell_type": "code",
   "execution_count": 20,
   "id": "expired-sunset",
   "metadata": {},
   "outputs": [
    {
     "data": {
      "text/plain": [
       "array([3, 1, 0, ..., 2, 3, 0], dtype=int32)"
      ]
     },
     "execution_count": 20,
     "metadata": {},
     "output_type": "execute_result"
    }
   ],
   "source": [
    "labels[0].values"
   ]
  },
  {
   "cell_type": "code",
   "execution_count": 21,
   "id": "noble-teens",
   "metadata": {},
   "outputs": [
    {
     "name": "stdout",
     "output_type": "stream",
     "text": [
      "14\n"
     ]
    }
   ],
   "source": [
    "SSE = []\n",
    "K = range(1,15)\n",
    "for k in K:\n",
    "    kms_k = KMeans(n_clusters = k, random_state = 0)\n",
    "    kms_k.fit(new_data)\n",
    "    SSE.append(kms_k.inertia_)\n",
    "print(len(SSE))"
   ]
  },
  {
   "cell_type": "code",
   "execution_count": 22,
   "id": "original-british",
   "metadata": {},
   "outputs": [
    {
     "data": {
      "image/png": "[encoded data removed]",
      "text/plain": [
       "<Figure size 432x288 with 1 Axes>"
      ]
     },
     "metadata": {
      "needs_background": "light"
     },
     "output_type": "display_data"
    }
   ],
   "source": [
    "fig =plt.figure()\n",
    "plt.plot(K,SSE,'bx-')\n",
    "plt.show()\n"
   ]
  },
  {
   "cell_type": "markdown",
   "id": "spiritual-strap",
   "metadata": {},
   "source": [
    "#### By refering to the plot, the best k value is located as the elbow position. So, it's 5."
   ]
  },
  {
   "cell_type": "code",
   "execution_count": 23,
   "id": "wanted-defeat",
   "metadata": {},
   "outputs": [
    {
     "data": {
      "image/png": "[encoded data removed]",
      "text/plain": [
       "<Figure size 432x288 with 2 Axes>"
      ]
     },
     "metadata": {
      "needs_background": "light"
     },
     "output_type": "display_data"
    }
   ],
   "source": [
    "fig =plt.figure()\n",
    "ax = fig.add_subplot(111)\n",
    "scatter = ax.scatter (new_data['BALANCE'] , new_data['PURCHASES'] , c = labels[0], s=50)\n",
    "ax.set_title(\"K-means Clutering\")\n",
    "ax.set_xlabel(\"BALANCE\")\n",
    "ax.set_ylabel(\"PURCHASES\")\n",
    "plt.colorbar(scatter)\n",
    "plt.show()"
   ]
  },
  {
   "cell_type": "markdown",
   "id": "sought-syndicate",
   "metadata": {},
   "source": [
    "#### Both methods splitted the raw data to four differents clusters. But for the first method, agglomerative clustering, the plot showed that the split was more accurate comparing to the second plot of Kmeans clustering. This is because, points belonging to each cluster were closer and more organized which made them locate at a specific part of the figure. Otherwise, for the kmeans plot, points from a different cluster appeared (for example yellow cluster) at others clusters locations.  "
   ]
  },
  {
   "cell_type": "markdown",
   "id": "broke-balance",
   "metadata": {},
   "source": [
    "## Bonus question\n",
    "#### Silhouette analysis can be used to study the separation distance between the resulting clusters. The silhouette plot displays a measure of how close each point in one cluster is to points in the neighboring clusters and thus provides a way to assess parameters like number of clusters visually. This measure has a range of [-1, 1]."
   ]
  },
  {
   "cell_type": "code",
   "execution_count": 24,
   "id": "second-george",
   "metadata": {},
   "outputs": [
    {
     "name": "stdout",
     "output_type": "stream",
     "text": [
      "0.20669973999392863\n"
     ]
    }
   ],
   "source": [
    "# Calculate Silhoutte Score\n",
    "from sklearn.metrics import silhouette_score\n",
    "score = silhouette_score(new_data, kmeans.labels_, metric='euclidean')\n",
    "print(score)"
   ]
  }
 ],
 "metadata": {
  "kernelspec": {
   "display_name": "Python 3",
   "language": "python",
   "name": "python3"
  },
  "language_info": {
   "codemirror_mode": {
    "name": "ipython",
    "version": 3
   },
   "file_extension": ".py",
   "mimetype": "text/x-python",
   "name": "python",
   "nbconvert_exporter": "python",
   "pygments_lexer": "ipython3",
   "version": "3.6.9"
  }
 },
 "nbformat": 4,
 "nbformat_minor": 5
}
