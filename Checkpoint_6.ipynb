{
 "cells": [
  {
   "cell_type": "markdown",
   "id": "handled-worry",
   "metadata": {},
   "source": [
    "### 1. Handle Data"
   ]
  },
  {
   "cell_type": "markdown",
   "id": "nonprofit-balance",
   "metadata": {},
   "source": [
    "#### The first thing we need to do is load our data file and then we need to split the data into a training dataset "
   ]
  },
  {
   "cell_type": "code",
   "execution_count": 1,
   "id": "authentic-honor",
   "metadata": {},
   "outputs": [],
   "source": [
    "import csv\n",
    "import random\n",
    "def loadDataset(filename,split,trainingSet=[] ,testSet=[]):\n",
    "    with open(filename, 'r') as csvfile:\n",
    "        lines = csv.reader(csvfile)\n",
    "        dataset = list(lines)\n",
    "        for x in range(len(dataset)):\n",
    "            for y in range(4):\n",
    "                dataset[x][y] = float(dataset[x][y])\n",
    "            if random.random() < split:\n",
    "                trainingSet.append(dataset[x])     \n",
    "            else:\n",
    "                testSet.append(dataset[x])   "
   ]
  },
  {
   "cell_type": "code",
   "execution_count": 2,
   "id": "brutal-gallery",
   "metadata": {},
   "outputs": [
    {
     "name": "stdout",
     "output_type": "stream",
     "text": [
      "Train: 98\n",
      "Test: 52\n"
     ]
    }
   ],
   "source": [
    "trainingSet=[]\n",
    "testSet=[]\n",
    "loadDataset('iris.data.txt', 0.66, trainingSet, testSet)\n",
    "print ('Train: ' + repr(len(trainingSet)))\n",
    "print ('Test: ' + repr(len(testSet)) )"
   ]
  },
  {
   "cell_type": "markdown",
   "id": "native-position",
   "metadata": {},
   "source": [
    "### 2. Similarity\n",
    "\n"
   ]
  },
  {
   "cell_type": "markdown",
   "id": "twenty-radiation",
   "metadata": {},
   "source": [
    "#### In order to make predictions we need to calculate the similarity between any two given data instances. This is needed so that we can locate the k most similar data instances in the training dataset for a given member of the test dataset and in turn make a prediction."
   ]
  },
  {
   "cell_type": "code",
   "execution_count": 3,
   "id": "accessible-shopper",
   "metadata": {},
   "outputs": [],
   "source": [
    "import math\n",
    "def euclideanDistance(instance1, instance2, length):\n",
    "    distance = math.sqrt(sum([math.pow(instance1[i]-instance2[i],2) for i in range(length)]))\n",
    "    return distance"
   ]
  },
  {
   "cell_type": "code",
   "execution_count": 4,
   "id": "owned-engineering",
   "metadata": {},
   "outputs": [
    {
     "name": "stdout",
     "output_type": "stream",
     "text": [
      "Distance:3.4641016151377544\n"
     ]
    }
   ],
   "source": [
    "data1 = [2, 2, 2, 'a']\n",
    "data2 = [4, 4, 4, 'b']\n",
    "distance = euclideanDistance(data1, data2, 3)\n",
    "print('Distance:' + repr(distance))"
   ]
  },
  {
   "cell_type": "markdown",
   "id": "japanese-genealogy",
   "metadata": {},
   "source": [
    "### 3. Neighbors"
   ]
  },
  {
   "cell_type": "markdown",
   "id": "pregnant-geography",
   "metadata": {},
   "source": [
    "#### Now that we have a similarity measure, we can use it to collect the k most similar instances for a given unseen instance."
   ]
  },
  {
   "cell_type": "code",
   "execution_count": 5,
   "id": "isolated-virus",
   "metadata": {},
   "outputs": [],
   "source": [
    "import operator\n",
    "def getNeighbors(trainingSet, testInstance, k):\n",
    "    distances = []\n",
    "    length = len(testInstance)-1\n",
    "    for x in range(len(trainingSet)):\n",
    "        dist = euclideanDistance(testInstance, trainingSet[x], length)\n",
    "        distances.append((trainingSet[x], dist))\n",
    "        distances.sort(key=operator.itemgetter(1))\n",
    "        neighbors = []\n",
    "    for x in range(k):\n",
    "        neighbors.append(distances[x][0])\n",
    "    return neighbors"
   ]
  },
  {
   "cell_type": "code",
   "execution_count": 6,
   "id": "unlimited-trainer",
   "metadata": {},
   "outputs": [
    {
     "name": "stdout",
     "output_type": "stream",
     "text": [
      "[[4, 4, 4, 'b']]\n"
     ]
    }
   ],
   "source": [
    "trainSet = [[2, 2, 2, 'a'], [4, 4, 4, 'b']]\n",
    "testInstance = [5, 5, 5]\n",
    "k = 1\n",
    "neighbors = getNeighbors(trainSet, testInstance, 1)\n",
    "print(neighbors)"
   ]
  },
  {
   "cell_type": "markdown",
   "id": "institutional-ireland",
   "metadata": {},
   "source": [
    "### 4. Response"
   ]
  },
  {
   "cell_type": "markdown",
   "id": "ethical-ratio",
   "metadata": {},
   "source": [
    "#### Once we have located the most similar neighbors for a test instance, the next task is to devise a predicted response based on those neighbors. We can do this by allowing each neighbor to vote for their class attribute, and take the majority vote as the prediction."
   ]
  },
  {
   "cell_type": "code",
   "execution_count": 7,
   "id": "classified-china",
   "metadata": {},
   "outputs": [],
   "source": [
    "def getResponse(neighbors):\n",
    "    classVotes = {}\n",
    "    for x in range(len(neighbors)):\n",
    "        response = neighbors[x][-1] \n",
    "        if response in classVotes:\n",
    "            classVotes[response] += 1\n",
    "        else:\n",
    "            classVotes[response] = 1    \n",
    "        sortedVotes = sorted(classVotes.items(), key=operator.itemgetter(1), reverse=True)\n",
    "        return sortedVotes[0][0]"
   ]
  },
  {
   "cell_type": "markdown",
   "id": "extended-hampton",
   "metadata": {},
   "source": [
    "###### We can test out this function with some test neighbors, as follows: neighbors = [[1,1,1,'a'], [2,2,2,'a'], [3,3,3,'b']]"
   ]
  },
  {
   "cell_type": "code",
   "execution_count": 8,
   "id": "transsexual-anchor",
   "metadata": {},
   "outputs": [
    {
     "name": "stdout",
     "output_type": "stream",
     "text": [
      "a\n"
     ]
    }
   ],
   "source": [
    "neighbors = [[1,1,1,'a'], [2,2,2,'a'], [3,3,3,'b']]\n",
    "response = getResponse(neighbors)\n",
    "print(response)"
   ]
  },
  {
   "cell_type": "markdown",
   "id": "phantom-montgomery",
   "metadata": {},
   "source": [
    "### 5. Accuracy\n"
   ]
  },
  {
   "cell_type": "markdown",
   "id": "curious-glory",
   "metadata": {},
   "source": [
    "#### We have all of the pieces of the kNN algorithm in place. An important remaining concern is how to evaluate the accuracy of predictions."
   ]
  },
  {
   "cell_type": "code",
   "execution_count": 9,
   "id": "assured-clothing",
   "metadata": {},
   "outputs": [],
   "source": [
    "def getAccuracy(testSet, predictions):\n",
    "    correct = 0\n",
    "    for i in range(len(testSet)):\n",
    "        if testSet[i][-1] == predictions[i]:\n",
    "            correct += 1\n",
    "    return (correct/float(len(testSet))) * 100.0"
   ]
  },
  {
   "cell_type": "code",
   "execution_count": 10,
   "id": "virgin-trailer",
   "metadata": {},
   "outputs": [
    {
     "name": "stdout",
     "output_type": "stream",
     "text": [
      "66.66666666666666\n"
     ]
    }
   ],
   "source": [
    "testSet = [[1,1,1,'a'], [2,2,2,'a'], [3,3,3,'b']]\n",
    "predictions = ['a', 'a', 'a']\n",
    "accuracy = getAccuracy(testSet, predictions)\n",
    "print(accuracy)"
   ]
  },
  {
   "cell_type": "markdown",
   "id": "interpreted-intention",
   "metadata": {},
   "source": [
    "### 6. Main"
   ]
  },
  {
   "cell_type": "markdown",
   "id": "primary-deficit",
   "metadata": {},
   "source": [
    "#### We now have all the elements of the algorithm you can put them all in one main function."
   ]
  },
  {
   "cell_type": "code",
   "execution_count": 11,
   "id": "solar-missile",
   "metadata": {},
   "outputs": [],
   "source": [
    "def main(filename,split,k):\n",
    "    trainingSet,testSet,predictions,accuracies=[],[],[],[]\n",
    "    loadDataset(filename,split,trainingSet,testSet)\n",
    "    length = len(trainingSet)-1\n",
    "    for x_test in testSet:\n",
    "            neighbors = []\n",
    "            neighbors = getNeighbors(trainingSet, x_test, k)\n",
    "            predictions.append(getResponse(neighbors))\n",
    "    return getAccuracy(testSet, predictions)"
   ]
  },
  {
   "cell_type": "code",
   "execution_count": 12,
   "id": "proved-fifteen",
   "metadata": {},
   "outputs": [
    {
     "name": "stdout",
     "output_type": "stream",
     "text": [
      "Accuracy for 1 is 95.16129032258065\n",
      "Accuracy for 2 is 96.07843137254902\n",
      "Accuracy for 3 is 94.23076923076923\n",
      "Accuracy for 4 is 94.54545454545455\n",
      "Accuracy for 5 is 97.67441860465115\n",
      "Accuracy for 6 is 94.54545454545455\n",
      "Accuracy for 7 is 95.45454545454545\n",
      "Accuracy for 8 is 90.9090909090909\n",
      "Accuracy for 9 is 95.91836734693877\n",
      "Accuracy for 10 is 95.74468085106383\n",
      "Accuracy for 11 is 95.74468085106383\n",
      "Accuracy for 12 is 94.11764705882352\n",
      "Accuracy for 13 is 100.0\n",
      "Accuracy for 14 is 96.22641509433963\n",
      "Accuracy for 15 is 93.87755102040816\n",
      "Accuracy for 16 is 98.0392156862745\n",
      "Accuracy for 17 is 95.83333333333334\n",
      "Accuracy for 18 is 96.15384615384616\n",
      "Accuracy for 19 is 100.0\n",
      "Accuracy for 20 is 96.15384615384616\n",
      "Accuracy for 21 is 92.3076923076923\n",
      "Accuracy for 22 is 93.33333333333333\n",
      "Accuracy for 23 is 95.91836734693877\n",
      "Accuracy for 24 is 94.44444444444444\n",
      "Accuracy for 25 is 96.72131147540983\n",
      "Accuracy for 26 is 94.23076923076923\n",
      "Accuracy for 27 is 93.65079365079364\n",
      "Accuracy for 28 is 98.0392156862745\n",
      "Accuracy for 29 is 95.1219512195122\n"
     ]
    }
   ],
   "source": [
    "for k in range(1,30):\n",
    "    print(f\"Accuracy for {k} is {main('iris.data.txt',0.66,k)}\")\n"
   ]
  },
  {
   "cell_type": "markdown",
   "id": "stopped-stanley",
   "metadata": {},
   "source": [
    "### 7.Another distance metric"
   ]
  },
  {
   "cell_type": "code",
   "execution_count": 13,
   "id": "plain-retrieval",
   "metadata": {},
   "outputs": [],
   "source": [
    "def manhattanDistance(instance1, instance2, length):\n",
    "    distance = sum([abs(instance1[i]-instance2[i]) for i in range(length)])\n",
    "    return distance"
   ]
  },
  {
   "cell_type": "code",
   "execution_count": 14,
   "id": "congressional-reminder",
   "metadata": {},
   "outputs": [
    {
     "name": "stdout",
     "output_type": "stream",
     "text": [
      "Distance:6\n"
     ]
    }
   ],
   "source": [
    "data1 = [2, 2, 2, 'a']\n",
    "data2 = [4, 4, 4, 'b']\n",
    "distance = manhattanDistance(data1, data2, 3)\n",
    "print('Distance:' + repr(distance))"
   ]
  },
  {
   "cell_type": "code",
   "execution_count": 15,
   "id": "meaningful-monroe",
   "metadata": {},
   "outputs": [],
   "source": [
    "def getNeighbors(trainingSet, testInstance, k):\n",
    "    distances = []\n",
    "    length = len(testInstance)-1\n",
    "    for x in range(len(trainingSet)):\n",
    "        dist = manhattanDistance(testInstance, trainingSet[x], length)\n",
    "        distances.append((trainingSet[x], dist))\n",
    "        distances.sort(key=operator.itemgetter(1))\n",
    "        neighbors = []\n",
    "    for x in range(k):\n",
    "        neighbors.append(distances[x][0])\n",
    "    return neighbors"
   ]
  },
  {
   "cell_type": "code",
   "execution_count": 16,
   "id": "second-airplane",
   "metadata": {},
   "outputs": [
    {
     "name": "stdout",
     "output_type": "stream",
     "text": [
      "Accuracy for 1 is 89.28571428571429 using manhattan distance\n",
      "Accuracy for 2 is 100.0 using manhattan distance\n",
      "Accuracy for 3 is 93.33333333333333 using manhattan distance\n",
      "Accuracy for 4 is 90.74074074074075 using manhattan distance\n",
      "Accuracy for 5 is 91.66666666666666 using manhattan distance\n",
      "Accuracy for 6 is 93.10344827586206 using manhattan distance\n",
      "Accuracy for 7 is 94.0 using manhattan distance\n",
      "Accuracy for 8 is 98.11320754716981 using manhattan distance\n",
      "Accuracy for 9 is 96.36363636363636 using manhattan distance\n",
      "Accuracy for 10 is 96.29629629629629 using manhattan distance\n",
      "Accuracy for 11 is 88.63636363636364 using manhattan distance\n",
      "Accuracy for 12 is 95.45454545454545 using manhattan distance\n",
      "Accuracy for 13 is 94.0 using manhattan distance\n",
      "Accuracy for 14 is 88.0 using manhattan distance\n",
      "Accuracy for 15 is 98.18181818181819 using manhattan distance\n",
      "Accuracy for 16 is 96.07843137254902 using manhattan distance\n",
      "Accuracy for 17 is 98.14814814814815 using manhattan distance\n",
      "Accuracy for 18 is 94.44444444444444 using manhattan distance\n",
      "Accuracy for 19 is 94.33962264150944 using manhattan distance\n",
      "Accuracy for 20 is 94.0 using manhattan distance\n",
      "Accuracy for 21 is 92.72727272727272 using manhattan distance\n",
      "Accuracy for 22 is 100.0 using manhattan distance\n",
      "Accuracy for 23 is 92.72727272727272 using manhattan distance\n",
      "Accuracy for 24 is 100.0 using manhattan distance\n",
      "Accuracy for 25 is 100.0 using manhattan distance\n",
      "Accuracy for 26 is 98.11320754716981 using manhattan distance\n",
      "Accuracy for 27 is 96.0 using manhattan distance\n",
      "Accuracy for 28 is 95.45454545454545 using manhattan distance\n",
      "Accuracy for 29 is 96.29629629629629 using manhattan distance\n"
     ]
    }
   ],
   "source": [
    "for k in range(1,30):\n",
    "    print(f\"Accuracy for {k} is {main('iris.data.txt',0.66,k)} using manhattan distance\")"
   ]
  },
  {
   "cell_type": "code",
   "execution_count": null,
   "id": "alive-inclusion",
   "metadata": {},
   "outputs": [],
   "source": []
  }
 ],
 "metadata": {
  "kernelspec": {
   "display_name": "Python 3",
   "language": "python",
   "name": "python3"
  },
  "language_info": {
   "codemirror_mode": {
    "name": "ipython",
    "version": 3
   },
   "file_extension": ".py",
   "mimetype": "text/x-python",
   "name": "python",
   "nbconvert_exporter": "python",
   "pygments_lexer": "ipython3",
   "version": "3.6.9"
  }
 },
 "nbformat": 4,
 "nbformat_minor": 5
}
