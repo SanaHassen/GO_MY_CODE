{
 "cells": [
  {
   "cell_type": "markdown",
   "id": "ideal-massachusetts",
   "metadata": {},
   "source": [
    "## Decision Tree & Random Forest\n"
   ]
  },
  {
   "cell_type": "markdown",
   "id": "parliamentary-relative",
   "metadata": {},
   "source": [
    "### Question_1"
   ]
  },
  {
   "cell_type": "code",
   "execution_count": 1,
   "id": "approved-sheet",
   "metadata": {},
   "outputs": [],
   "source": [
    "import pandas as pd\n",
    "from sklearn.model_selection import train_test_split\n",
    "from sklearn import tree\n",
    "from sklearn.tree import DecisionTreeClassifier , plot_tree\n",
    "from sklearn.metrics import accuracy_score\n",
    "import matplotlib.pyplot as plt"
   ]
  },
  {
   "cell_type": "code",
   "execution_count": 2,
   "id": "designed-permission",
   "metadata": {},
   "outputs": [],
   "source": [
    "data = pd.read_csv(\"preprocessed_data.csv\")"
   ]
  },
  {
   "cell_type": "code",
   "execution_count": 3,
   "id": "pretty-preference",
   "metadata": {},
   "outputs": [
    {
     "data": {
      "text/html": [
       "<div>\n",
       "<style scoped>\n",
       "    .dataframe tbody tr th:only-of-type {\n",
       "        vertical-align: middle;\n",
       "    }\n",
       "\n",
       "    .dataframe tbody tr th {\n",
       "        vertical-align: top;\n",
       "    }\n",
       "\n",
       "    .dataframe thead th {\n",
       "        text-align: right;\n",
       "    }\n",
       "</style>\n",
       "<table border=\"1\" class=\"dataframe\">\n",
       "  <thead>\n",
       "    <tr style=\"text-align: right;\">\n",
       "      <th></th>\n",
       "      <th>Unnamed: 0</th>\n",
       "      <th>Survived</th>\n",
       "      <th>Pclass</th>\n",
       "      <th>Sex</th>\n",
       "      <th>Age</th>\n",
       "      <th>Fare</th>\n",
       "      <th>Embarked</th>\n",
       "      <th>Title</th>\n",
       "      <th>FamilySize</th>\n",
       "    </tr>\n",
       "  </thead>\n",
       "  <tbody>\n",
       "    <tr>\n",
       "      <th>0</th>\n",
       "      <td>0</td>\n",
       "      <td>0</td>\n",
       "      <td>2</td>\n",
       "      <td>1</td>\n",
       "      <td>28.0</td>\n",
       "      <td>13.0000</td>\n",
       "      <td>2</td>\n",
       "      <td>3</td>\n",
       "      <td>0</td>\n",
       "    </tr>\n",
       "    <tr>\n",
       "      <th>1</th>\n",
       "      <td>1</td>\n",
       "      <td>0</td>\n",
       "      <td>3</td>\n",
       "      <td>1</td>\n",
       "      <td>25.0</td>\n",
       "      <td>7.6500</td>\n",
       "      <td>2</td>\n",
       "      <td>3</td>\n",
       "      <td>0</td>\n",
       "    </tr>\n",
       "    <tr>\n",
       "      <th>2</th>\n",
       "      <td>2</td>\n",
       "      <td>0</td>\n",
       "      <td>3</td>\n",
       "      <td>1</td>\n",
       "      <td>20.0</td>\n",
       "      <td>7.8542</td>\n",
       "      <td>2</td>\n",
       "      <td>3</td>\n",
       "      <td>0</td>\n",
       "    </tr>\n",
       "    <tr>\n",
       "      <th>3</th>\n",
       "      <td>3</td>\n",
       "      <td>0</td>\n",
       "      <td>3</td>\n",
       "      <td>0</td>\n",
       "      <td>29.0</td>\n",
       "      <td>21.0750</td>\n",
       "      <td>2</td>\n",
       "      <td>3</td>\n",
       "      <td>4</td>\n",
       "    </tr>\n",
       "    <tr>\n",
       "      <th>4</th>\n",
       "      <td>4</td>\n",
       "      <td>0</td>\n",
       "      <td>1</td>\n",
       "      <td>1</td>\n",
       "      <td>31.0</td>\n",
       "      <td>52.0000</td>\n",
       "      <td>2</td>\n",
       "      <td>3</td>\n",
       "      <td>1</td>\n",
       "    </tr>\n",
       "  </tbody>\n",
       "</table>\n",
       "</div>"
      ],
      "text/plain": [
       "   Unnamed: 0  Survived  Pclass  Sex   Age     Fare  Embarked  Title  \\\n",
       "0           0         0       2    1  28.0  13.0000         2      3   \n",
       "1           1         0       3    1  25.0   7.6500         2      3   \n",
       "2           2         0       3    1  20.0   7.8542         2      3   \n",
       "3           3         0       3    0  29.0  21.0750         2      3   \n",
       "4           4         0       1    1  31.0  52.0000         2      3   \n",
       "\n",
       "   FamilySize  \n",
       "0           0  \n",
       "1           0  \n",
       "2           0  \n",
       "3           4  \n",
       "4           1  "
      ]
     },
     "execution_count": 3,
     "metadata": {},
     "output_type": "execute_result"
    }
   ],
   "source": [
    "data.head()"
   ]
  },
  {
   "cell_type": "code",
   "execution_count": 4,
   "id": "invalid-operations",
   "metadata": {},
   "outputs": [],
   "source": [
    "X = data[['Pclass', \"Sex\", \"Age\", \"Fare\", \"Embarked\" ,\"Title\", \"FamilySize\"]]\n",
    "Y = data[\"Survived\"]"
   ]
  },
  {
   "cell_type": "code",
   "execution_count": 5,
   "id": "norwegian-beast",
   "metadata": {},
   "outputs": [],
   "source": [
    "x_train,x_test,y_train,y_test = train_test_split(X,Y,test_size=0.2,random_state = 30)"
   ]
  },
  {
   "cell_type": "code",
   "execution_count": 6,
   "id": "federal-wrestling",
   "metadata": {},
   "outputs": [
    {
     "name": "stdout",
     "output_type": "stream",
     "text": [
      "(712, 7)\n",
      "(179, 7)\n",
      "(712,)\n",
      "(179,)\n"
     ]
    }
   ],
   "source": [
    "print(x_train.shape)\n",
    "print(x_test.shape)\n",
    "print(y_train.shape)\n",
    "print(y_test.shape)"
   ]
  },
  {
   "cell_type": "code",
   "execution_count": 7,
   "id": "encouraging-feeling",
   "metadata": {},
   "outputs": [
    {
     "data": {
      "text/plain": [
       "DecisionTreeClassifier(max_depth=3, max_leaf_nodes=5)"
      ]
     },
     "execution_count": 7,
     "metadata": {},
     "output_type": "execute_result"
    }
   ],
   "source": [
    "model = tree.DecisionTreeClassifier(max_leaf_nodes=5,max_depth=3)\n",
    "model.fit(x_train,y_train)"
   ]
  },
  {
   "cell_type": "code",
   "execution_count": 8,
   "id": "convertible-homework",
   "metadata": {},
   "outputs": [
    {
     "name": "stdout",
     "output_type": "stream",
     "text": [
      "the accuracy of the Decision tree for 5 leaf nodes and a depth of 3 is: \n",
      "0.7597765363128491\n"
     ]
    }
   ],
   "source": [
    "print('the accuracy of the Decision tree for 5 leaf nodes and a depth of 3 is: \\n' + repr(accuracy_score(y_test,model.predict(x_test))))"
   ]
  },
  {
   "cell_type": "markdown",
   "id": "wrong-trunk",
   "metadata": {},
   "source": [
    "### Question_2"
   ]
  },
  {
   "cell_type": "code",
   "execution_count": 9,
   "id": "accepting-superintendent",
   "metadata": {},
   "outputs": [
    {
     "data": {
      "image/png": "[encoded data removed]",
      "text/plain": [
       "<Figure size 1080x360 with 1 Axes>"
      ]
     },
     "metadata": {
      "needs_background": "light"
     },
     "output_type": "display_data"
    }
   ],
   "source": [
    "plt.figure(figsize = (15,5))\n",
    "plot_tree(model,feature_names = X.columns, filled=True,proportion=True)\n",
    "plt.show()"
   ]
  },
  {
   "cell_type": "markdown",
   "id": "driving-remainder",
   "metadata": {},
   "source": [
    "#### A prediction of a survived person can be done while going through the different branches of our decision tree.\n",
    "#### we can predict that a female (sex = 0) where sex <= 0.5 ,a Pclass > 2.5 (poor class) and a fare > 23.35 would die ( probability to be a not survived is 0.9) \n",
    "#### we can predict that a male (sex = 1) with an ag <= 3.5 would survive, otherwise, he would die.\n",
    "#### we can predict that a female (sex=0) with a Pclass <= 2.5 would survive."
   ]
  },
  {
   "cell_type": "markdown",
   "id": "tutorial-withdrawal",
   "metadata": {},
   "source": [
    "### Question_3"
   ]
  },
  {
   "cell_type": "code",
   "execution_count": 10,
   "id": "interracial-windows",
   "metadata": {},
   "outputs": [
    {
     "name": "stdout",
     "output_type": "stream",
     "text": [
      "the accuracy of the Decision tree is: \n",
      "0.7988826815642458\n"
     ]
    }
   ],
   "source": [
    "model_1 = tree.DecisionTreeClassifier( criterion = \"entropy\", splitter='random',min_samples_split = 7)\n",
    "model_1.fit(x_train,y_train)\n",
    "print('the accuracy of the Decision tree is: \\n' + repr(accuracy_score(y_test,model_1.predict(x_test))))"
   ]
  },
  {
   "cell_type": "markdown",
   "id": "perfect-rubber",
   "metadata": {},
   "source": [
    "### Question_4"
   ]
  },
  {
   "cell_type": "markdown",
   "id": "legislative-requirement",
   "metadata": {},
   "source": [
    "#### When modifying some parameters , such the criterion from best to entropy and the splitter from best to random, the accuracy was increased from 0.75 to 0.81 ."
   ]
  },
  {
   "cell_type": "markdown",
   "id": "opponent-cutting",
   "metadata": {},
   "source": [
    "### Question_5"
   ]
  },
  {
   "cell_type": "code",
   "execution_count": 11,
   "id": "empty-rover",
   "metadata": {},
   "outputs": [],
   "source": [
    "from sklearn.ensemble import RandomForestClassifier \n",
    "from sklearn import metrics"
   ]
  },
  {
   "cell_type": "code",
   "execution_count": 12,
   "id": "anonymous-defense",
   "metadata": {},
   "outputs": [
    {
     "name": "stdout",
     "output_type": "stream",
     "text": [
      "Accuracy using RandomForest with 100 n_estimators 0.8100558659217877\n"
     ]
    }
   ],
   "source": [
    "clf = RandomForestClassifier(n_estimators=100)\n",
    "clf.fit(x_train,y_train)\n",
    "y_predict = clf.predict(x_test)\n",
    "print('Accuracy using RandomForest with 100 n_estimators ' + repr(accuracy_score(y_predict, y_test)))"
   ]
  },
  {
   "cell_type": "code",
   "execution_count": 15,
   "id": "welcome-opinion",
   "metadata": {},
   "outputs": [
    {
     "name": "stdout",
     "output_type": "stream",
     "text": [
      "Accuracy using RandomForest with 10 n_estimators 0.7877094972067039\n"
     ]
    }
   ],
   "source": [
    "clf = RandomForestClassifier(n_estimators= 10)\n",
    "clf.fit(x_train,y_train)\n",
    "y_predict = clf.predict(x_test)\n",
    "print('Accuracy using RandomForest with 10 n_estimators ' + repr(accuracy_score(y_predict, y_test)))"
   ]
  },
  {
   "cell_type": "markdown",
   "id": "armed-investigator",
   "metadata": {},
   "source": [
    "#### When using more estimators, the accuracy of the random forest increased."
   ]
  }
 ],
 "metadata": {
  "kernelspec": {
   "display_name": "Python 3",
   "language": "python",
   "name": "python3"
  },
  "language_info": {
   "codemirror_mode": {
    "name": "ipython",
    "version": 3
   },
   "file_extension": ".py",
   "mimetype": "text/x-python",
   "name": "python",
   "nbconvert_exporter": "python",
   "pygments_lexer": "ipython3",
   "version": "3.6.9"
  }
 },
 "nbformat": 4,
 "nbformat_minor": 5
}
